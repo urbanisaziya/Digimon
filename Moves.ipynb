{
 "cells": [
  {
   "cell_type": "code",
   "execution_count": 1,
   "metadata": {},
   "outputs": [],
   "source": [
    "import pandas as pd\n",
    "import numpy as np\n",
    "import seaborn as sns\n",
    "import matplotlib.pyplot as plt\n",
    "\n",
    "#Which set of moves will get the best ratio of attack power to SP spent?\n",
    "#Which team of 3 digimon have the highest attack? Defense?\n",
    "#What’s the tradeoff between HP and SP?\n",
    "#Are some types over- or under-represented?\n",
    "#Both the moves and support skills have short text descriptions. Can an NLP analysis reveal underlying clusters of moves?\n",
    "#Are different types and attributes evenly represented across stages?"
   ]
  },
  {
   "cell_type": "code",
   "execution_count": 2,
   "metadata": {},
   "outputs": [
    {
     "data": {
      "text/html": [
       "<div>\n",
       "<style scoped>\n",
       "    .dataframe tbody tr th:only-of-type {\n",
       "        vertical-align: middle;\n",
       "    }\n",
       "\n",
       "    .dataframe tbody tr th {\n",
       "        vertical-align: top;\n",
       "    }\n",
       "\n",
       "    .dataframe thead th {\n",
       "        text-align: right;\n",
       "    }\n",
       "</style>\n",
       "<table border=\"1\" class=\"dataframe\">\n",
       "  <thead>\n",
       "    <tr style=\"text-align: right;\">\n",
       "      <th></th>\n",
       "      <th>Move</th>\n",
       "      <th>SP Cost</th>\n",
       "      <th>Type</th>\n",
       "      <th>Power</th>\n",
       "      <th>Attribute</th>\n",
       "      <th>Inheritable</th>\n",
       "      <th>Description</th>\n",
       "    </tr>\n",
       "  </thead>\n",
       "  <tbody>\n",
       "    <tr>\n",
       "      <th>0</th>\n",
       "      <td>Wolkenapalm I</td>\n",
       "      <td>3</td>\n",
       "      <td>Physical</td>\n",
       "      <td>65</td>\n",
       "      <td>Fire</td>\n",
       "      <td>Yes</td>\n",
       "      <td>Physical attack, 65 Fire damage to one foe. 95...</td>\n",
       "    </tr>\n",
       "    <tr>\n",
       "      <th>1</th>\n",
       "      <td>Wolkenapalm II</td>\n",
       "      <td>6</td>\n",
       "      <td>Physical</td>\n",
       "      <td>85</td>\n",
       "      <td>Fire</td>\n",
       "      <td>Yes</td>\n",
       "      <td>Physical attack, 85 Fire damage to one foe. 95...</td>\n",
       "    </tr>\n",
       "    <tr>\n",
       "      <th>2</th>\n",
       "      <td>Wolkenapalm III</td>\n",
       "      <td>9</td>\n",
       "      <td>Physical</td>\n",
       "      <td>105</td>\n",
       "      <td>Fire</td>\n",
       "      <td>Yes</td>\n",
       "      <td>Physical attack, 105 Fire damage to one foe. 9...</td>\n",
       "    </tr>\n",
       "    <tr>\n",
       "      <th>3</th>\n",
       "      <td>Burst Flame I</td>\n",
       "      <td>3</td>\n",
       "      <td>Magic</td>\n",
       "      <td>55</td>\n",
       "      <td>Fire</td>\n",
       "      <td>Yes</td>\n",
       "      <td>Magic attack, 55 Fire damage to one foe. 95% a...</td>\n",
       "    </tr>\n",
       "    <tr>\n",
       "      <th>4</th>\n",
       "      <td>Burst Flame II</td>\n",
       "      <td>6</td>\n",
       "      <td>Magic</td>\n",
       "      <td>75</td>\n",
       "      <td>Fire</td>\n",
       "      <td>Yes</td>\n",
       "      <td>Magic attack, 75 Fire damage to one foe. 95% a...</td>\n",
       "    </tr>\n",
       "  </tbody>\n",
       "</table>\n",
       "</div>"
      ],
      "text/plain": [
       "              Move  SP Cost      Type  Power Attribute Inheritable  \\\n",
       "0    Wolkenapalm I        3  Physical     65      Fire         Yes   \n",
       "1   Wolkenapalm II        6  Physical     85      Fire         Yes   \n",
       "2  Wolkenapalm III        9  Physical    105      Fire         Yes   \n",
       "3    Burst Flame I        3     Magic     55      Fire         Yes   \n",
       "4   Burst Flame II        6     Magic     75      Fire         Yes   \n",
       "\n",
       "                                         Description  \n",
       "0  Physical attack, 65 Fire damage to one foe. 95...  \n",
       "1  Physical attack, 85 Fire damage to one foe. 95...  \n",
       "2  Physical attack, 105 Fire damage to one foe. 9...  \n",
       "3  Magic attack, 55 Fire damage to one foe. 95% a...  \n",
       "4  Magic attack, 75 Fire damage to one foe. 95% a...  "
      ]
     },
     "execution_count": 2,
     "metadata": {},
     "output_type": "execute_result"
    }
   ],
   "source": [
    "df = pd.read_csv('DigiDB_movelist.csv')\n",
    "df.head()"
   ]
  },
  {
   "cell_type": "code",
   "execution_count": 3,
   "metadata": {},
   "outputs": [
    {
     "name": "stdout",
     "output_type": "stream",
     "text": [
      "<class 'pandas.core.frame.DataFrame'>\n",
      "RangeIndex: 387 entries, 0 to 386\n",
      "Data columns (total 7 columns):\n",
      "Move           387 non-null object\n",
      "SP Cost        387 non-null int64\n",
      "Type           387 non-null object\n",
      "Power          387 non-null int64\n",
      "Attribute      387 non-null object\n",
      "Inheritable    387 non-null object\n",
      "Description    387 non-null object\n",
      "dtypes: int64(2), object(5)\n",
      "memory usage: 21.2+ KB\n"
     ]
    }
   ],
   "source": [
    "df.info()"
   ]
  },
  {
   "cell_type": "code",
   "execution_count": 4,
   "metadata": {},
   "outputs": [
    {
     "data": {
      "text/plain": [
       "Physical    203\n",
       "Magic       127\n",
       "Support      49\n",
       "Fixed         4\n",
       "Direct        4\n",
       "Name: Type, dtype: int64"
      ]
     },
     "execution_count": 4,
     "metadata": {},
     "output_type": "execute_result"
    }
   ],
   "source": [
    "df.Type.value_counts()"
   ]
  },
  {
   "cell_type": "code",
   "execution_count": 23,
   "metadata": {},
   "outputs": [
    {
     "data": {
      "text/plain": [
       "<matplotlib.axes._subplots.AxesSubplot at 0x10b819630>"
      ]
     },
     "execution_count": 23,
     "metadata": {},
     "output_type": "execute_result"
    },
    {
     "data": {
      "image/png": "[encoded data removed]",
      "text/plain": [
       "<Figure size 432x288 with 1 Axes>"
      ]
     },
     "metadata": {},
     "output_type": "display_data"
    }
   ],
   "source": [
    "df['Type'].sort_values(ascending=False).value_counts().plot(kind='bar')"
   ]
  },
  {
   "cell_type": "code",
   "execution_count": null,
   "metadata": {},
   "outputs": [],
   "source": []
  },
  {
   "cell_type": "code",
   "execution_count": null,
   "metadata": {},
   "outputs": [],
   "source": []
  },
  {
   "cell_type": "code",
   "execution_count": null,
   "metadata": {},
   "outputs": [],
   "source": []
  },
  {
   "cell_type": "code",
   "execution_count": null,
   "metadata": {},
   "outputs": [],
   "source": []
  },
  {
   "cell_type": "code",
   "execution_count": null,
   "metadata": {},
   "outputs": [],
   "source": []
  },
  {
   "cell_type": "code",
   "execution_count": null,
   "metadata": {},
   "outputs": [],
   "source": []
  }
 ],
 "metadata": {
  "kernelspec": {
   "display_name": "Python 3",
   "language": "python",
   "name": "python3"
  },
  "language_info": {
   "codemirror_mode": {
    "name": "ipython",
    "version": 3
   },
   "file_extension": ".py",
   "mimetype": "text/x-python",
   "name": "python",
   "nbconvert_exporter": "python",
   "pygments_lexer": "ipython3",
   "version": "3.6.4"
  }
 },
 "nbformat": 4,
 "nbformat_minor": 2
}
